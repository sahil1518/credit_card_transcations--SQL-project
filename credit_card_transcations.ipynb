{
  "nbformat": 4,
  "nbformat_minor": 0,
  "metadata": {
    "colab": {
      "provenance": []
    },
    "kernelspec": {
      "name": "python3",
      "display_name": "Python 3"
    },
    "language_info": {
      "name": "python"
    }
  },
  "cells": [
    {
      "cell_type": "code",
      "execution_count": null,
      "metadata": {
        "id": "j2aLU6lyCvLi"
      },
      "outputs": [],
      "source": [
        " # 1. Top 5 cities with highest spends and their percentage contribution of total credit card spends\n",
        "\n",
        "WITH CitySpends AS (\n",
        "    SELECT\n",
        "        city,\n",
        "        SUM(amount) AS total_spends\n",
        "    FROM\n",
        "        YourTableName\n",
        "    GROUP BY\n",
        "        city\n",
        "),\n",
        "TotalSpends AS (\n",
        "    SELECT SUM(total_spends) AS overall_total FROM CitySpends\n",
        ")\n",
        "SELECT TOP 5\n",
        "    city,\n",
        "    total_spends,\n",
        "    (total_spends * 100.0 / (SELECT overall_total FROM TotalSpends)) AS percentage_contribution\n",
        "FROM\n",
        "    CitySpends\n",
        "ORDER BY\n",
        "    total_spends DESC;\n"
      ]
    },
    {
      "cell_type": "code",
      "source": [
        "# 2. Highest spend month and amount spent in that month for each card type\n",
        "\n",
        "SELECT\n",
        "    card_type,\n",
        "    FORMAT(CONVERT(DATE, date, 103), 'MMMM-yyyy') AS month_year,\n",
        "    SUM(amount) AS total_spends\n",
        "FROM\n",
        "    YourTableName\n",
        "GROUP BY\n",
        "    card_type,\n",
        "    FORMAT(CONVERT(DATE, date, 103), 'MMMM-yyyy')\n",
        "ORDER BY\n",
        "    card_type,\n",
        "    total_spends DESC;\n"
      ],
      "metadata": {
        "id": "ligmw94xC84e"
      },
      "execution_count": null,
      "outputs": []
    },
    {
      "cell_type": "code",
      "source": [
        "# 3. Transaction details for each card type when it reaches a cumulative of 1,000,000 total spends\n",
        "\n",
        "WITH CumulativeSpends AS (\n",
        "    SELECT\n",
        "        *,\n",
        "        SUM(amount) OVER (PARTITION BY card_type ORDER BY date) AS cumulative_spends\n",
        "    FROM\n",
        "        YourTableName\n",
        ")\n",
        "SELECT *\n",
        "FROM\n",
        "    CumulativeSpends\n",
        "WHERE\n",
        "    cumulative_spends >= 1000000\n",
        "    AND cumulative_spends - amount < 1000000;\n"
      ],
      "metadata": {
        "id": "8y9yF27zDRH1"
      },
      "execution_count": null,
      "outputs": []
    },
    {
      "cell_type": "code",
      "source": [
        "# 4. City with the lowest percentage spend for Gold card type\n",
        "\n",
        "WITH GoldSpends AS (\n",
        "    SELECT\n",
        "        city,\n",
        "        SUM(amount) AS city_gold_spends\n",
        "    FROM\n",
        "        YourTableName\n",
        "    WHERE\n",
        "        card_type = 'Gold'\n",
        "    GROUP BY\n",
        "        city\n",
        "),\n",
        "TotalGoldSpends AS (\n",
        "    SELECT SUM(city_gold_spends) AS total_gold_spends FROM GoldSpends\n",
        ")\n",
        "SELECT\n",
        "    city,\n",
        "    (city_gold_spends * 100.0 / (SELECT total_gold_spends FROM TotalGoldSpends)) AS percentage_contribution\n",
        "FROM\n",
        "    GoldSpends\n",
        "ORDER BY\n",
        "    percentage_contribution ASC\n",
        "FETCH FIRST 1 ROW ONLY;\n"
      ],
      "metadata": {
        "id": "wo3yXL7qDYzM"
      },
      "execution_count": null,
      "outputs": []
    },
    {
      "cell_type": "code",
      "source": [
        "# 5. City, highest expense type, and lowest expense type\n",
        "\n",
        "WITH ExpenseTypeSpends AS (\n",
        "    SELECT\n",
        "        city,\n",
        "        exp_Type,\n",
        "        SUM(amount) AS total_spends\n",
        "    FROM\n",
        "        YourTableName\n",
        "    GROUP BY\n",
        "        city, exp_Type\n",
        "),\n",
        "CityExpenses AS (\n",
        "    SELECT\n",
        "        city,\n",
        "        exp_Type,\n",
        "        total_spends,\n",
        "        ROW_NUMBER() OVER (PARTITION BY city ORDER BY total_spends DESC) AS rank_high,\n",
        "        ROW_NUMBER() OVER (PARTITION BY city ORDER BY total_spends ASC) AS rank_low\n",
        "    FROM\n",
        "        ExpenseTypeSpends\n",
        ")\n",
        "SELECT\n",
        "    city,\n",
        "    MAX(CASE WHEN rank_high = 1 THEN exp_Type END) AS highest_expense_type,\n",
        "    MAX(CASE WHEN rank_low = 1 THEN exp_Type END) AS lowest_expense_type\n",
        "FROM\n",
        "    CityExpenses\n",
        "GROUP BY\n",
        "    city;\n",
        "\n",
        "\n",
        "\n"
      ],
      "metadata": {
        "id": "wjMiT6Q5DhdW"
      },
      "execution_count": null,
      "outputs": []
    },
    {
      "cell_type": "code",
      "source": [
        "# 6. Percentage contribution of spends by females for each expense type\n",
        "\n",
        "WITH FemaleSpends AS (\n",
        "    SELECT\n",
        "        exp_Type,\n",
        "        SUM(amount) AS female_spends\n",
        "    FROM\n",
        "        YourTableName\n",
        "    WHERE\n",
        "        gender = 'F'\n",
        "    GROUP BY\n",
        "        exp_Type\n",
        "),\n",
        "TotalSpends AS (\n",
        "    SELECT\n",
        "        exp_Type,\n",
        "        SUM(amount) AS total_spends\n",
        "    FROM\n",
        "        YourTableName\n",
        "    GROUP BY\n",
        "        exp_Type\n",
        ")\n",
        "SELECT\n",
        "    f.exp_Type,\n",
        "    (female_spends * 100.0 / t.total_spends) AS percentage_contribution\n",
        "FROM\n",
        "    FemaleSpends f\n",
        "JOIN\n",
        "    TotalSpends t ON f.exp_Type = t.exp_Type;\n"
      ],
      "metadata": {
        "id": "0vBpNhK7Dh6R"
      },
      "execution_count": null,
      "outputs": []
    },
    {
      "cell_type": "code",
      "source": [
        "# 7. Card and expense type combination with highest month-over-month growth in January 2014\n",
        "\n",
        "WITH MonthlySpends AS (\n",
        "    SELECT\n",
        "        card_type,\n",
        "        exp_Type,\n",
        "        FORMAT(CONVERT(DATE, date, 103), 'yyyy-MM') AS month_year,\n",
        "        SUM(amount) AS monthly_spends\n",
        "    FROM\n",
        "        YourTableName\n",
        "    GROUP BY\n",
        "        card_type, exp_Type, FORMAT(CONVERT(DATE, date, 103), 'yyyy-MM')\n",
        "),\n",
        "MonthOverMonthGrowth AS (\n",
        "    SELECT\n",
        "        card_type,\n",
        "        exp_Type,\n",
        "        month_year,\n",
        "        monthly_spends,\n",
        "        LAG(monthly_spends) OVER (PARTITION BY card_type, exp_Type ORDER BY month_year) AS prev_month_spends,\n",
        "        (monthly_spends - LAG(monthly_spends) OVER (PARTITION BY card_type, exp_Type ORDER BY month_year)) AS mom_growth\n",
        "    FROM\n",
        "        MonthlySpends\n",
        ")\n",
        "SELECT\n",
        "    card_type,\n",
        "    exp_Type,\n",
        "    month_year,\n",
        "    mom_growth\n",
        "FROM\n",
        "    MonthOverMonthGrowth\n",
        "WHERE\n",
        "    month_year = '2014-01'\n",
        "ORDER BY\n",
        "    mom_growth DESC\n",
        "FETCH FIRST 1 ROW ONLY;\n"
      ],
      "metadata": {
        "id": "yxPbpyLEEWqM"
      },
      "execution_count": null,
      "outputs": []
    },
    {
      "cell_type": "code",
      "source": [
        "# 8. City with highest total spend to total number of transactions ratio during weekends\n",
        "\n",
        "WITH WeekendTransactions AS (\n",
        "    SELECT\n",
        "        city,\n",
        "        SUM(amount) AS total_spends,\n",
        "        COUNT(*) AS total_transactions\n",
        "    FROM\n",
        "        YourTableName\n",
        "    WHERE\n",
        "        DATEPART(dw, CONVERT(DATE, date, 103)) IN (1, 7) -- Assuming 1=Sunday, 7=Saturday in SQL Server's DATEPART\n",
        "    GROUP BY\n",
        "        city\n",
        ")\n",
        "SELECT\n",
        "    city,\n",
        "    (total_spends * 1.0 / total_transactions) AS spend_to_transaction_ratio\n",
        "FROM\n",
        "    WeekendTransactions\n",
        "ORDER BY\n",
        "    spend_to_transaction_ratio DESC\n",
        "FETCH FIRST 1 ROW ONLY;\n"
      ],
      "metadata": {
        "id": "CQC1Dn_GF3IU"
      },
      "execution_count": null,
      "outputs": []
    },
    {
      "cell_type": "code",
      "source": [
        "# 9. City that took the least number of days to reach its 500th transaction after the first transaction in that city\n",
        "\n",
        "WITH CityTransactions AS (\n",
        "    SELECT\n",
        "        city,\n",
        "        date,\n",
        "        ROW_NUMBER() OVER (PARTITION BY city ORDER BY date) AS txn_number\n",
        "    FROM\n",
        "        YourTableName\n",
        "),\n",
        "FirstTo500Days AS (\n",
        "    SELECT\n",
        "        city,\n",
        "        MIN(CASE WHEN txn_number = 500 THEN DATEDIFF(DAY, MIN(date) OVER (PARTITION BY city), date) END) AS days_to_500\n",
        "    FROM\n",
        "        CityTransactions\n",
        "    GROUP BY\n",
        "        city\n",
        ")\n",
        "SELECT\n",
        "    city,\n",
        "    days_to_500\n",
        "FROM\n",
        "    FirstTo500Days\n",
        "ORDER BY\n",
        "    days_to_500 ASC\n",
        "FETCH FIRST 1 ROW ONLY;\n"
      ],
      "metadata": {
        "id": "C-67ByU2GCW4"
      },
      "execution_count": null,
      "outputs": []
    },
    {
      "cell_type": "code",
      "source": [],
      "metadata": {
        "id": "U9Zu1LzuGjO4"
      },
      "execution_count": null,
      "outputs": []
    },
    {
      "cell_type": "markdown",
      "source": [],
      "metadata": {
        "id": "rPEzlUbIGXVd"
      }
    }
  ]
}