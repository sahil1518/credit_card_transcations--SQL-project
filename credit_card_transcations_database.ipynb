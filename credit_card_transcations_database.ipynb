{
  "nbformat": 4,
  "nbformat_minor": 0,
  "metadata": {
    "colab": {
      "provenance": []
    },
    "kernelspec": {
      "name": "python3",
      "display_name": "Python 3"
    },
    "language_info": {
      "name": "python"
    }
  },
  "cells": [
    {
      "cell_type": "markdown",
      "source": [
        "\"The credit_card_transactions dataset is extensive, and I shared a sample table to illustrate its structure.\"\n"
      ],
      "metadata": {
        "id": "Nr2C-VsqLQqL"
      }
    },
    {
      "cell_type": "code",
      "source": [
        "# create database credit_card_transactions\n"
      ],
      "metadata": {
        "id": "jfT_sEXUMdUC"
      },
      "execution_count": null,
      "outputs": []
    },
    {
      "cell_type": "code",
      "source": [
        "\n",
        "CREATE TABLE credit_card_transactions (\n",
        "    [index] INT PRIMARY KEY,\n",
        "    city VARCHAR(255),\n",
        "    [date] DATE,\n",
        "    card_type VARCHAR(50),\n",
        "    exp_Type VARCHAR(50),\n",
        "    gender CHAR(1),\n",
        "    amount INT\n",
        ");\n",
        "GO\n"
      ],
      "metadata": {
        "id": "egoOFv9NLzHC"
      },
      "execution_count": null,
      "outputs": []
    },
    {
      "cell_type": "code",
      "source": [
        "INSERT INTO Transactions ([index], city, [date], card_type, exp_Type, gender, amount)\n",
        "VALUES\n",
        "(0, 'Delhi, India', '2014-10-29', 'Gold', 'Bills', 'F', 82475),\n",
        "(1, 'Greater Mumbai, India', '2014-08-22', 'Platinum', 'Bills', 'F', 32555),\n",
        "(2, 'Bengaluru, India', '2014-08-27', 'Silver', 'Bills', 'F', 101738),\n",
        "(3, 'Greater Mumbai, India', '2014-04-12', 'Signature', 'Bills', 'F', 123424),\n",
        "(4, 'Bengaluru, India', '2015-05-05', 'Gold', 'Bills', 'F', 171574);\n",
        "GO\n"
      ],
      "metadata": {
        "id": "RuJ1WKO5MTdB"
      },
      "execution_count": null,
      "outputs": []
    },
    {
      "cell_type": "code",
      "source": [],
      "metadata": {
        "id": "5TH3JAQxMDEP"
      },
      "execution_count": null,
      "outputs": []
    }
  ]
}